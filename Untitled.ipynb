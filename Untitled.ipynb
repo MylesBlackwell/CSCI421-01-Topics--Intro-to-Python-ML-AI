{
 "cells": [
  {
   "cell_type": "code",
   "execution_count": 1,
   "id": "3be54803-56e5-4ed7-8f48-540b7c6ff1d1",
   "metadata": {},
   "outputs": [
    {
     "name": "stdout",
     "output_type": "stream",
     "text": [
      "Looking in indexes: https://download.pytorch.org/whl/cu118\n",
      "Requirement already satisfied: torch in c:\\users\\mxbla\\documents\\code\\school code\\csci421-01-topics--intro-to-python-ml-ai\\.venv\\lib\\site-packages (2.6.0+cu118)\n",
      "Requirement already satisfied: torchvision in c:\\users\\mxbla\\documents\\code\\school code\\csci421-01-topics--intro-to-python-ml-ai\\.venv\\lib\\site-packages (0.21.0+cu118)\n",
      "Requirement already satisfied: torchaudio in c:\\users\\mxbla\\documents\\code\\school code\\csci421-01-topics--intro-to-python-ml-ai\\.venv\\lib\\site-packages (2.6.0+cu118)\n",
      "Requirement already satisfied: filelock in c:\\users\\mxbla\\documents\\code\\school code\\csci421-01-topics--intro-to-python-ml-ai\\.venv\\lib\\site-packages (from torch) (3.18.0)\n",
      "Requirement already satisfied: typing-extensions>=4.10.0 in c:\\users\\mxbla\\documents\\code\\school code\\csci421-01-topics--intro-to-python-ml-ai\\.venv\\lib\\site-packages (from torch) (4.13.2)\n",
      "Requirement already satisfied: networkx in c:\\users\\mxbla\\documents\\code\\school code\\csci421-01-topics--intro-to-python-ml-ai\\.venv\\lib\\site-packages (from torch) (3.3)\n",
      "Requirement already satisfied: jinja2 in c:\\users\\mxbla\\documents\\code\\school code\\csci421-01-topics--intro-to-python-ml-ai\\.venv\\lib\\site-packages (from torch) (3.1.4)\n",
      "Requirement already satisfied: fsspec in c:\\users\\mxbla\\documents\\code\\school code\\csci421-01-topics--intro-to-python-ml-ai\\.venv\\lib\\site-packages (from torch) (2025.3.2)\n",
      "Requirement already satisfied: setuptools in c:\\users\\mxbla\\documents\\code\\school code\\csci421-01-topics--intro-to-python-ml-ai\\.venv\\lib\\site-packages (from torch) (70.2.0)\n",
      "Requirement already satisfied: sympy==1.13.1 in c:\\users\\mxbla\\documents\\code\\school code\\csci421-01-topics--intro-to-python-ml-ai\\.venv\\lib\\site-packages (from torch) (1.13.1)\n",
      "Requirement already satisfied: mpmath<1.4,>=1.1.0 in c:\\users\\mxbla\\documents\\code\\school code\\csci421-01-topics--intro-to-python-ml-ai\\.venv\\lib\\site-packages (from sympy==1.13.1->torch) (1.3.0)\n",
      "Requirement already satisfied: numpy in c:\\users\\mxbla\\documents\\code\\school code\\csci421-01-topics--intro-to-python-ml-ai\\.venv\\lib\\site-packages (from torchvision) (2.2.4)\n",
      "Requirement already satisfied: pillow!=8.3.*,>=5.3.0 in c:\\users\\mxbla\\documents\\code\\school code\\csci421-01-topics--intro-to-python-ml-ai\\.venv\\lib\\site-packages (from torchvision) (11.0.0)\n",
      "Requirement already satisfied: MarkupSafe>=2.0 in c:\\users\\mxbla\\documents\\code\\school code\\csci421-01-topics--intro-to-python-ml-ai\\.venv\\lib\\site-packages (from jinja2->torch) (2.1.5)\n"
     ]
    }
   ],
   "source": [
    "!pip install torch torchvision torchaudio --index-url https://download.pytorch.org/whl/cu118"
   ]
  },
  {
   "cell_type": "code",
   "execution_count": 2,
   "id": "48c54cd8-072f-4b9e-bfc4-db34c767f2a8",
   "metadata": {},
   "outputs": [
    {
     "name": "stdout",
     "output_type": "stream",
     "text": [
      "Requirement already satisfied: transformers in c:\\users\\mxbla\\documents\\code\\school code\\csci421-01-topics--intro-to-python-ml-ai\\.venv\\lib\\site-packages (4.51.2)\n",
      "Requirement already satisfied: filelock in c:\\users\\mxbla\\documents\\code\\school code\\csci421-01-topics--intro-to-python-ml-ai\\.venv\\lib\\site-packages (from transformers) (3.18.0)\n",
      "Requirement already satisfied: huggingface-hub<1.0,>=0.30.0 in c:\\users\\mxbla\\documents\\code\\school code\\csci421-01-topics--intro-to-python-ml-ai\\.venv\\lib\\site-packages (from transformers) (0.30.2)\n",
      "Requirement already satisfied: numpy>=1.17 in c:\\users\\mxbla\\documents\\code\\school code\\csci421-01-topics--intro-to-python-ml-ai\\.venv\\lib\\site-packages (from transformers) (2.2.4)\n",
      "Requirement already satisfied: packaging>=20.0 in c:\\users\\mxbla\\documents\\code\\school code\\csci421-01-topics--intro-to-python-ml-ai\\.venv\\lib\\site-packages (from transformers) (24.2)\n",
      "Requirement already satisfied: pyyaml>=5.1 in c:\\users\\mxbla\\documents\\code\\school code\\csci421-01-topics--intro-to-python-ml-ai\\.venv\\lib\\site-packages (from transformers) (6.0.2)\n",
      "Requirement already satisfied: regex!=2019.12.17 in c:\\users\\mxbla\\documents\\code\\school code\\csci421-01-topics--intro-to-python-ml-ai\\.venv\\lib\\site-packages (from transformers) (2024.11.6)\n",
      "Requirement already satisfied: requests in c:\\users\\mxbla\\documents\\code\\school code\\csci421-01-topics--intro-to-python-ml-ai\\.venv\\lib\\site-packages (from transformers) (2.32.3)\n",
      "Requirement already satisfied: tokenizers<0.22,>=0.21 in c:\\users\\mxbla\\documents\\code\\school code\\csci421-01-topics--intro-to-python-ml-ai\\.venv\\lib\\site-packages (from transformers) (0.21.1)\n",
      "Requirement already satisfied: safetensors>=0.4.3 in c:\\users\\mxbla\\documents\\code\\school code\\csci421-01-topics--intro-to-python-ml-ai\\.venv\\lib\\site-packages (from transformers) (0.5.3)\n",
      "Requirement already satisfied: tqdm>=4.27 in c:\\users\\mxbla\\documents\\code\\school code\\csci421-01-topics--intro-to-python-ml-ai\\.venv\\lib\\site-packages (from transformers) (4.67.1)\n",
      "Requirement already satisfied: fsspec>=2023.5.0 in c:\\users\\mxbla\\documents\\code\\school code\\csci421-01-topics--intro-to-python-ml-ai\\.venv\\lib\\site-packages (from huggingface-hub<1.0,>=0.30.0->transformers) (2025.3.2)\n",
      "Requirement already satisfied: typing-extensions>=3.7.4.3 in c:\\users\\mxbla\\documents\\code\\school code\\csci421-01-topics--intro-to-python-ml-ai\\.venv\\lib\\site-packages (from huggingface-hub<1.0,>=0.30.0->transformers) (4.13.2)\n",
      "Requirement already satisfied: colorama in c:\\users\\mxbla\\documents\\code\\school code\\csci421-01-topics--intro-to-python-ml-ai\\.venv\\lib\\site-packages (from tqdm>=4.27->transformers) (0.4.6)\n",
      "Requirement already satisfied: charset-normalizer<4,>=2 in c:\\users\\mxbla\\documents\\code\\school code\\csci421-01-topics--intro-to-python-ml-ai\\.venv\\lib\\site-packages (from requests->transformers) (3.4.1)\n",
      "Requirement already satisfied: idna<4,>=2.5 in c:\\users\\mxbla\\documents\\code\\school code\\csci421-01-topics--intro-to-python-ml-ai\\.venv\\lib\\site-packages (from requests->transformers) (3.10)\n",
      "Requirement already satisfied: urllib3<3,>=1.21.1 in c:\\users\\mxbla\\documents\\code\\school code\\csci421-01-topics--intro-to-python-ml-ai\\.venv\\lib\\site-packages (from requests->transformers) (2.3.0)\n",
      "Requirement already satisfied: certifi>=2017.4.17 in c:\\users\\mxbla\\documents\\code\\school code\\csci421-01-topics--intro-to-python-ml-ai\\.venv\\lib\\site-packages (from requests->transformers) (2025.1.31)\n"
     ]
    }
   ],
   "source": [
    "!pip install transformers"
   ]
  },
  {
   "cell_type": "code",
   "execution_count": 3,
   "id": "7ede1374-dbbe-4288-99ee-4603a9d62fc3",
   "metadata": {},
   "outputs": [],
   "source": [
    "from transformers import pipeline"
   ]
  },
  {
   "cell_type": "code",
   "execution_count": 9,
   "id": "6ce1d4ea-ee48-4eaa-8113-326bc03b9755",
   "metadata": {},
   "outputs": [
    {
     "name": "stdout",
     "output_type": "stream",
     "text": [
      "Started\n",
      "Token\n",
      "Generate Text\n",
      "printing text\n",
      "\n",
      "    improve this,\"\n",
      "    <?php \n",
      "    $list = array1; /* array of sorted array */ \n",
      "    array_sort($list); /* array sorted according to the array1 sort algorithm */ \n",
      "    ?>\"  \n",
      "    );?>\n",
      "\n",
      "  <?php print_r($list); ?>\n",
      "\n",
      "A:\n",
      "\n",
      "Because you are using PHP < 5.3.0, you can use the Array Iterator class function array_keys().\n",
      "I just tested it and it worked.\n",
      "\n",
      "<?php\n",
      "\n",
      "$array = array( 'foo', 'bar' );\n",
      "\n",
      "var_dump( array_keys( $array ) );\n",
      "\n",
      "?>\n",
      "\n",
      "In my case the key of the array it's key = \"foo\" and there are no keys inside the array, so it gives me an ArrayIndexOutOfBoundsException.\n",
      "\n",
      "To get the keys from an array, you can use the array_keys method.\n",
      "\n",
      "The array_keys method takes a string as input and returns an array of keys. It has the following signature:\n",
      "$keys = array_keys ( $arr, $_ );\n",
      "\n",
      "Here, first parameter is the string containing the keys, the\n",
      "  second parameter is an array, and the first parameter is the variable to\n",
      "  use as the index.\n",
      "\n",
      "This is how you can use the\n",
      "Complete\n"
     ]
    }
   ],
   "source": [
    "from transformers import GPTNeoForCausalLM, GPT2Tokenizer\n",
    "\n",
    "print(\"Started\")\n",
    "\n",
    "model = GPTNeoForCausalLM.from_pretrained(\"EleutherAI/gpt-neo-1.3B\")\n",
    "tokenizer = GPT2Tokenizer.from_pretrained(\"EleutherAI/gpt-neo-1.3B\")\n",
    "\n",
    "# Set the pad token to be the same as the eos token\n",
    "tokenizer.pad_token = tokenizer.eos_token\n",
    "\n",
    "prompt = (\n",
    "    \"\"\"\n",
    "    improve this,\"\n",
    "    <?php \n",
    "    $list = array1; /* array of sorted array */ \n",
    "    array_sort($list); /* array sorted according to the array1 sort algorithm */ \n",
    "    ?>\"  \n",
    "\"\"\"\n",
    ")\n",
    "\n",
    "print(\"Token\")\n",
    "# Tokenize the input and create attention mask\n",
    "inputs = tokenizer(prompt, return_tensors=\"pt\", padding=True)\n",
    "input_ids = inputs.input_ids\n",
    "attention_mask = inputs.attention_mask\n",
    "\n",
    "print(\"Generate Text\")\n",
    "# Generate text with attention mask and pad token ID\n",
    "gen_tokens = model.generate(\n",
    "    input_ids,\n",
    "    attention_mask=attention_mask,\n",
    "    do_sample=True,\n",
    "    temperature=0.9,\n",
    "    max_length=300,\n",
    "    pad_token_id=tokenizer.eos_token_id\n",
    ")\n",
    "gen_text = tokenizer.batch_decode(gen_tokens, skip_special_tokens=True)[0]\n",
    "print(\"printing text\")\n",
    "# Print the generated text\n",
    "print(gen_text)\n",
    "print(\"Complete\")"
   ]
  },
  {
   "cell_type": "code",
   "execution_count": null,
   "id": "881771fe-4d01-40fa-818f-8a2aec1709dd",
   "metadata": {},
   "outputs": [],
   "source": []
  },
  {
   "cell_type": "code",
   "execution_count": null,
   "id": "2488f332-9830-4cae-aa66-8afadab27d0e",
   "metadata": {},
   "outputs": [],
   "source": []
  }
 ],
 "metadata": {
  "kernelspec": {
   "display_name": "Python 3 (ipykernel)",
   "language": "python",
   "name": "python3"
  },
  "language_info": {
   "codemirror_mode": {
    "name": "ipython",
    "version": 3
   },
   "file_extension": ".py",
   "mimetype": "text/x-python",
   "name": "python",
   "nbconvert_exporter": "python",
   "pygments_lexer": "ipython3",
   "version": "3.12.9"
  }
 },
 "nbformat": 4,
 "nbformat_minor": 5
}
