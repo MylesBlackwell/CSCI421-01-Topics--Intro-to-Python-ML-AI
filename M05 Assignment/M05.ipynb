{
 "cells": [
  {
   "cell_type": "markdown",
   "id": "b0a3ef1e-f667-46c8-9963-00d21b187c89",
   "metadata": {},
   "source": [
    "# Assignment: M05 Programming Assignment\n",
    "# Author: Myles Blackwell\n",
    "# Date: 2-17-2025"
   ]
  },
  {
   "cell_type": "markdown",
   "id": "f73382c6-cbcb-4a29-a4c8-40f176e7f71f",
   "metadata": {},
   "source": [
    "## installing packages"
   ]
  },
  {
   "cell_type": "code",
   "execution_count": 43,
   "id": "e7566c6c-0752-4458-8c43-319b6be421c6",
   "metadata": {},
   "outputs": [
    {
     "name": "stdout",
     "output_type": "stream",
     "text": [
      "Requirement already satisfied: pandas in c:\\users\\mxbla\\appdata\\local\\programs\\python\\python313\\lib\\site-packages (2.2.3)\n",
      "Requirement already satisfied: numpy>=1.26.0 in c:\\users\\mxbla\\appdata\\local\\programs\\python\\python313\\lib\\site-packages (from pandas) (2.2.3)\n",
      "Requirement already satisfied: python-dateutil>=2.8.2 in c:\\users\\mxbla\\appdata\\local\\programs\\python\\python313\\lib\\site-packages (from pandas) (2.9.0.post0)\n",
      "Requirement already satisfied: pytz>=2020.1 in c:\\users\\mxbla\\appdata\\local\\programs\\python\\python313\\lib\\site-packages (from pandas) (2025.1)\n",
      "Requirement already satisfied: tzdata>=2022.7 in c:\\users\\mxbla\\appdata\\local\\programs\\python\\python313\\lib\\site-packages (from pandas) (2025.1)\n",
      "Requirement already satisfied: six>=1.5 in c:\\users\\mxbla\\appdata\\local\\programs\\python\\python313\\lib\\site-packages (from python-dateutil>=2.8.2->pandas) (1.17.0)\n",
      "Requirement already satisfied: lxml in c:\\users\\mxbla\\appdata\\local\\programs\\python\\python313\\lib\\site-packages (5.3.1)\n"
     ]
    }
   ],
   "source": [
    "!pip install pandas\n",
    "!pip install lxml"
   ]
  },
  {
   "cell_type": "markdown",
   "id": "fc6f318c-a6de-4869-87bf-81e9a3440747",
   "metadata": {},
   "source": [
    "## Imports"
   ]
  },
  {
   "cell_type": "code",
   "execution_count": 44,
   "id": "acf0a74d-2d01-402c-b0c5-29dac58eb3ed",
   "metadata": {},
   "outputs": [],
   "source": [
    "import pandas as pd\n",
    "import matplotlib.pyplot as plt"
   ]
  },
  {
   "cell_type": "markdown",
   "id": "29c581fe-a57f-4e83-9096-2faf22b3629f",
   "metadata": {},
   "source": [
    "## Music CSV File"
   ]
  },
  {
   "cell_type": "code",
   "execution_count": 45,
   "id": "ec120ee7-b337-4684-9246-851d786ac9de",
   "metadata": {},
   "outputs": [],
   "source": [
    "music = pd.read_csv('music.csv')"
   ]
  },
  {
   "cell_type": "markdown",
   "id": "ad393603-2346-4f12-a8af-39673b60ea3d",
   "metadata": {},
   "source": [
    "### Shows the entire file"
   ]
  },
  {
   "cell_type": "code",
   "execution_count": 46,
   "id": "0128ef3c-2a70-4e57-a56c-a6c89e3db25b",
   "metadata": {},
   "outputs": [
    {
     "data": {
      "text/html": [
       "<div>\n",
       "<style scoped>\n",
       "    .dataframe tbody tr th:only-of-type {\n",
       "        vertical-align: middle;\n",
       "    }\n",
       "\n",
       "    .dataframe tbody tr th {\n",
       "        vertical-align: top;\n",
       "    }\n",
       "\n",
       "    .dataframe thead th {\n",
       "        text-align: right;\n",
       "    }\n",
       "</style>\n",
       "<table border=\"1\" class=\"dataframe\">\n",
       "  <thead>\n",
       "    <tr style=\"text-align: right;\">\n",
       "      <th></th>\n",
       "      <th>Title</th>\n",
       "      <th>Artist</th>\n",
       "      <th>Album</th>\n",
       "      <th>Year</th>\n",
       "      <th>Genre</th>\n",
       "      <th>Duration_seconds</th>\n",
       "    </tr>\n",
       "  </thead>\n",
       "  <tbody>\n",
       "    <tr>\n",
       "      <th>0</th>\n",
       "      <td>Lollipop</td>\n",
       "      <td>Lil Wayne</td>\n",
       "      <td>Tha Carter III</td>\n",
       "      <td>2008</td>\n",
       "      <td>Hip-Hop</td>\n",
       "      <td>299</td>\n",
       "    </tr>\n",
       "    <tr>\n",
       "      <th>1</th>\n",
       "      <td>reincarnated</td>\n",
       "      <td>Kendrick Lamar</td>\n",
       "      <td>GNX</td>\n",
       "      <td>2024</td>\n",
       "      <td>Rap</td>\n",
       "      <td>275</td>\n",
       "    </tr>\n",
       "    <tr>\n",
       "      <th>2</th>\n",
       "      <td>Days Off</td>\n",
       "      <td>Lil Baby</td>\n",
       "      <td>Perfect Timing</td>\n",
       "      <td>2017</td>\n",
       "      <td>Rap</td>\n",
       "      <td>183</td>\n",
       "    </tr>\n",
       "    <tr>\n",
       "      <th>3</th>\n",
       "      <td>Rockstar</td>\n",
       "      <td>Nickelback</td>\n",
       "      <td>All the Right Reasons</td>\n",
       "      <td>2005</td>\n",
       "      <td>Rock</td>\n",
       "      <td>252</td>\n",
       "    </tr>\n",
       "    <tr>\n",
       "      <th>4</th>\n",
       "      <td>Beat It</td>\n",
       "      <td>Michael Jackson</td>\n",
       "      <td>Thriller</td>\n",
       "      <td>1982</td>\n",
       "      <td>Hard Rock</td>\n",
       "      <td>258</td>\n",
       "    </tr>\n",
       "    <tr>\n",
       "      <th>5</th>\n",
       "      <td>Annihilate</td>\n",
       "      <td>Metro Booming</td>\n",
       "      <td>METRO BOOMIN PRESENTS SPIDER-MAN: ACROSS THE S...</td>\n",
       "      <td>2023</td>\n",
       "      <td>Hip-Hop</td>\n",
       "      <td>232</td>\n",
       "    </tr>\n",
       "    <tr>\n",
       "      <th>6</th>\n",
       "      <td>Cozy Forver</td>\n",
       "      <td>Kembe X</td>\n",
       "      <td>Cozy Forever</td>\n",
       "      <td>2021</td>\n",
       "      <td>Rap</td>\n",
       "      <td>145</td>\n",
       "    </tr>\n",
       "    <tr>\n",
       "      <th>7</th>\n",
       "      <td>Warning</td>\n",
       "      <td>Morgan Wallen</td>\n",
       "      <td>Dangerous: The Double Album</td>\n",
       "      <td>2021</td>\n",
       "      <td>Country</td>\n",
       "      <td>156</td>\n",
       "    </tr>\n",
       "    <tr>\n",
       "      <th>8</th>\n",
       "      <td>Rock Wit U (Awww Baby)</td>\n",
       "      <td>Ashanti</td>\n",
       "      <td>Chapter II</td>\n",
       "      <td>2003</td>\n",
       "      <td>R&amp;B</td>\n",
       "      <td>209</td>\n",
       "    </tr>\n",
       "    <tr>\n",
       "      <th>9</th>\n",
       "      <td>Jump Off</td>\n",
       "      <td>Nic.</td>\n",
       "      <td>eye still been making music</td>\n",
       "      <td>2023</td>\n",
       "      <td>Rap</td>\n",
       "      <td>221</td>\n",
       "    </tr>\n",
       "  </tbody>\n",
       "</table>\n",
       "</div>"
      ],
      "text/plain": [
       "                    Title           Artist  \\\n",
       "0                Lollipop        Lil Wayne   \n",
       "1            reincarnated   Kendrick Lamar   \n",
       "2                Days Off         Lil Baby   \n",
       "3                Rockstar       Nickelback   \n",
       "4                 Beat It  Michael Jackson   \n",
       "5             Annihilate     Metro Booming   \n",
       "6             Cozy Forver          Kembe X   \n",
       "7                 Warning    Morgan Wallen   \n",
       "8  Rock Wit U (Awww Baby)          Ashanti   \n",
       "9                Jump Off             Nic.   \n",
       "\n",
       "                                               Album  Year      Genre  \\\n",
       "0                                     Tha Carter III  2008    Hip-Hop   \n",
       "1                                                GNX  2024        Rap   \n",
       "2                                     Perfect Timing  2017        Rap   \n",
       "3                              All the Right Reasons  2005       Rock   \n",
       "4                                           Thriller  1982  Hard Rock   \n",
       "5  METRO BOOMIN PRESENTS SPIDER-MAN: ACROSS THE S...  2023    Hip-Hop   \n",
       "6                                       Cozy Forever  2021        Rap   \n",
       "7                        Dangerous: The Double Album  2021    Country   \n",
       "8                                         Chapter II  2003        R&B   \n",
       "9                        eye still been making music  2023        Rap   \n",
       "\n",
       "   Duration_seconds  \n",
       "0               299  \n",
       "1               275  \n",
       "2               183  \n",
       "3               252  \n",
       "4               258  \n",
       "5               232  \n",
       "6               145  \n",
       "7               156  \n",
       "8               209  \n",
       "9               221  "
      ]
     },
     "execution_count": 46,
     "metadata": {},
     "output_type": "execute_result"
    }
   ],
   "source": [
    "music"
   ]
  },
  {
   "cell_type": "markdown",
   "id": "44b1cf88-4679-4477-ac30-48a7956ea40a",
   "metadata": {},
   "source": [
    "### shows first five rows"
   ]
  },
  {
   "cell_type": "code",
   "execution_count": 47,
   "id": "d77a8f88-77ac-45d5-9b07-b14eeed66c5b",
   "metadata": {},
   "outputs": [
    {
     "data": {
      "text/html": [
       "<div>\n",
       "<style scoped>\n",
       "    .dataframe tbody tr th:only-of-type {\n",
       "        vertical-align: middle;\n",
       "    }\n",
       "\n",
       "    .dataframe tbody tr th {\n",
       "        vertical-align: top;\n",
       "    }\n",
       "\n",
       "    .dataframe thead th {\n",
       "        text-align: right;\n",
       "    }\n",
       "</style>\n",
       "<table border=\"1\" class=\"dataframe\">\n",
       "  <thead>\n",
       "    <tr style=\"text-align: right;\">\n",
       "      <th></th>\n",
       "      <th>Title</th>\n",
       "      <th>Artist</th>\n",
       "      <th>Album</th>\n",
       "      <th>Year</th>\n",
       "      <th>Genre</th>\n",
       "      <th>Duration_seconds</th>\n",
       "    </tr>\n",
       "  </thead>\n",
       "  <tbody>\n",
       "    <tr>\n",
       "      <th>0</th>\n",
       "      <td>Lollipop</td>\n",
       "      <td>Lil Wayne</td>\n",
       "      <td>Tha Carter III</td>\n",
       "      <td>2008</td>\n",
       "      <td>Hip-Hop</td>\n",
       "      <td>299</td>\n",
       "    </tr>\n",
       "    <tr>\n",
       "      <th>1</th>\n",
       "      <td>reincarnated</td>\n",
       "      <td>Kendrick Lamar</td>\n",
       "      <td>GNX</td>\n",
       "      <td>2024</td>\n",
       "      <td>Rap</td>\n",
       "      <td>275</td>\n",
       "    </tr>\n",
       "    <tr>\n",
       "      <th>2</th>\n",
       "      <td>Days Off</td>\n",
       "      <td>Lil Baby</td>\n",
       "      <td>Perfect Timing</td>\n",
       "      <td>2017</td>\n",
       "      <td>Rap</td>\n",
       "      <td>183</td>\n",
       "    </tr>\n",
       "    <tr>\n",
       "      <th>3</th>\n",
       "      <td>Rockstar</td>\n",
       "      <td>Nickelback</td>\n",
       "      <td>All the Right Reasons</td>\n",
       "      <td>2005</td>\n",
       "      <td>Rock</td>\n",
       "      <td>252</td>\n",
       "    </tr>\n",
       "    <tr>\n",
       "      <th>4</th>\n",
       "      <td>Beat It</td>\n",
       "      <td>Michael Jackson</td>\n",
       "      <td>Thriller</td>\n",
       "      <td>1982</td>\n",
       "      <td>Hard Rock</td>\n",
       "      <td>258</td>\n",
       "    </tr>\n",
       "  </tbody>\n",
       "</table>\n",
       "</div>"
      ],
      "text/plain": [
       "          Title           Artist                  Album  Year      Genre  \\\n",
       "0      Lollipop        Lil Wayne         Tha Carter III  2008    Hip-Hop   \n",
       "1  reincarnated   Kendrick Lamar                    GNX  2024        Rap   \n",
       "2      Days Off         Lil Baby         Perfect Timing  2017        Rap   \n",
       "3      Rockstar       Nickelback  All the Right Reasons  2005       Rock   \n",
       "4       Beat It  Michael Jackson               Thriller  1982  Hard Rock   \n",
       "\n",
       "   Duration_seconds  \n",
       "0               299  \n",
       "1               275  \n",
       "2               183  \n",
       "3               252  \n",
       "4               258  "
      ]
     },
     "execution_count": 47,
     "metadata": {},
     "output_type": "execute_result"
    }
   ],
   "source": [
    "music.head()"
   ]
  },
  {
   "cell_type": "markdown",
   "id": "4f544cb1-cb31-4029-8ce1-aedacf4ccc4f",
   "metadata": {},
   "source": [
    "### gives infro about the music csv file"
   ]
  },
  {
   "cell_type": "code",
   "execution_count": 48,
   "id": "eca92986-901f-496c-a2c9-8f71f9047d09",
   "metadata": {
    "scrolled": true
   },
   "outputs": [
    {
     "name": "stdout",
     "output_type": "stream",
     "text": [
      "<class 'pandas.core.frame.DataFrame'>\n",
      "RangeIndex: 10 entries, 0 to 9\n",
      "Data columns (total 6 columns):\n",
      " #   Column            Non-Null Count  Dtype \n",
      "---  ------            --------------  ----- \n",
      " 0   Title             10 non-null     object\n",
      " 1   Artist            10 non-null     object\n",
      " 2   Album             10 non-null     object\n",
      " 3   Year              10 non-null     int64 \n",
      " 4   Genre             10 non-null     object\n",
      " 5   Duration_seconds  10 non-null     int64 \n",
      "dtypes: int64(2), object(4)\n",
      "memory usage: 612.0+ bytes\n"
     ]
    }
   ],
   "source": [
    "music.info()"
   ]
  },
  {
   "cell_type": "markdown",
   "id": "863b70ea-5fc3-4940-a0d3-d1e50139fa8a",
   "metadata": {
    "scrolled": true
   },
   "source": [
    "## The next two convert the csv file to json and xml files"
   ]
  },
  {
   "cell_type": "code",
   "execution_count": 49,
   "id": "a8131403-6d51-49b5-87f3-dc89ed51d2cb",
   "metadata": {},
   "outputs": [],
   "source": [
    "music.to_json('musicJson.json')"
   ]
  },
  {
   "cell_type": "code",
   "execution_count": 50,
   "id": "5d80d740-440f-4383-af8c-ace9e2d6bac3",
   "metadata": {},
   "outputs": [],
   "source": [
    "music.to_xml('musicXml.xml')"
   ]
  }
 ],
 "metadata": {
  "kernelspec": {
   "display_name": "Python 3 (ipykernel)",
   "language": "python",
   "name": "python3"
  },
  "language_info": {
   "codemirror_mode": {
    "name": "ipython",
    "version": 3
   },
   "file_extension": ".py",
   "mimetype": "text/x-python",
   "name": "python",
   "nbconvert_exporter": "python",
   "pygments_lexer": "ipython3",
   "version": "3.13.1"
  }
 },
 "nbformat": 4,
 "nbformat_minor": 5
}
